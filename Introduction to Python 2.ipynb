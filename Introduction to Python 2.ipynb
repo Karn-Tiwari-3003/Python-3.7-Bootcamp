{
 "cells": [
  {
   "cell_type": "code",
   "execution_count": 1,
   "metadata": {},
   "outputs": [],
   "source": [
    "# Checking for empty list"
   ]
  },
  {
   "cell_type": "code",
   "execution_count": 2,
   "metadata": {},
   "outputs": [],
   "source": [
    "cars = []\n",
    "if cars:             # return true if list is having one element atleast\n",
    "    for car in cars:\n",
    "        print(car)"
   ]
  },
  {
   "cell_type": "code",
   "execution_count": 3,
   "metadata": {},
   "outputs": [
    {
     "name": "stdout",
     "output_type": "stream",
     "text": [
      "a\n",
      "b\n",
      "c\n"
     ]
    }
   ],
   "source": [
    "cars = ['a','b','c']\n",
    "if cars:\n",
    "    for car in cars:\n",
    "        print(car)"
   ]
  },
  {
   "cell_type": "code",
   "execution_count": 4,
   "metadata": {},
   "outputs": [],
   "source": [
    "# Using multiple list"
   ]
  },
  {
   "cell_type": "code",
   "execution_count": 5,
   "metadata": {},
   "outputs": [
    {
     "name": "stdout",
     "output_type": "stream",
     "text": [
      "c is available\n",
      "f is NOT available\n"
     ]
    }
   ],
   "source": [
    "available_cars = ['a','b','c','d','e']\n",
    "wish_cars = ['c','f']\n",
    "for car in wish_cars:\n",
    "    if car in available_cars:\n",
    "        print(car + \" is available\")\n",
    "    else:\n",
    "        print(car + \" is NOT available\")"
   ]
  },
  {
   "cell_type": "markdown",
   "metadata": {},
   "source": [
    "# Dictionaries"
   ]
  },
  {
   "cell_type": "code",
   "execution_count": 6,
   "metadata": {},
   "outputs": [],
   "source": [
    "# Modelling of real time objects\n",
    "# Collection of key-value pair and key is used to access value\n",
    "# use of curly braces"
   ]
  },
  {
   "cell_type": "code",
   "execution_count": 7,
   "metadata": {},
   "outputs": [],
   "source": [
    "dic = {1:\"karn\",2:\"tiwari\"}"
   ]
  },
  {
   "cell_type": "code",
   "execution_count": 8,
   "metadata": {},
   "outputs": [
    {
     "name": "stdout",
     "output_type": "stream",
     "text": [
      "karn\n",
      "tiwari\n"
     ]
    }
   ],
   "source": [
    "print(dic[1])\n",
    "print(dic[2])"
   ]
  },
  {
   "cell_type": "code",
   "execution_count": 9,
   "metadata": {},
   "outputs": [],
   "source": [
    "# Working with dictionaries"
   ]
  },
  {
   "cell_type": "code",
   "execution_count": 10,
   "metadata": {},
   "outputs": [],
   "source": [
    "user = {'fname':'Karn','lname':'Tiwari'}"
   ]
  },
  {
   "cell_type": "code",
   "execution_count": 11,
   "metadata": {},
   "outputs": [
    {
     "name": "stdout",
     "output_type": "stream",
     "text": [
      "{1: 'karn', 2: 'tiwari'}\n"
     ]
    }
   ],
   "source": [
    "print(dic)"
   ]
  },
  {
   "cell_type": "code",
   "execution_count": 12,
   "metadata": {},
   "outputs": [
    {
     "name": "stdout",
     "output_type": "stream",
     "text": [
      "Karn\n"
     ]
    }
   ],
   "source": [
    "# Accessing value in dic\n",
    "print(user['fname'])"
   ]
  },
  {
   "cell_type": "code",
   "execution_count": 13,
   "metadata": {},
   "outputs": [],
   "source": [
    "# Adding value to dictionary"
   ]
  },
  {
   "cell_type": "code",
   "execution_count": 14,
   "metadata": {},
   "outputs": [
    {
     "name": "stdout",
     "output_type": "stream",
     "text": [
      "{'fname': 'Karn', 'lname': 'Tiwari'}\n"
     ]
    }
   ],
   "source": [
    "print(user)"
   ]
  },
  {
   "cell_type": "code",
   "execution_count": 15,
   "metadata": {},
   "outputs": [],
   "source": [
    "user['age'] = 19"
   ]
  },
  {
   "cell_type": "code",
   "execution_count": 16,
   "metadata": {},
   "outputs": [
    {
     "name": "stdout",
     "output_type": "stream",
     "text": [
      "{'fname': 'Karn', 'lname': 'Tiwari', 'age': 19}\n"
     ]
    }
   ],
   "source": [
    "print(user)"
   ]
  },
  {
   "cell_type": "code",
   "execution_count": 17,
   "metadata": {},
   "outputs": [
    {
     "name": "stdout",
     "output_type": "stream",
     "text": [
      "Your age is 19\n"
     ]
    }
   ],
   "source": [
    "print(\"Your age is \" + str(user['age'])) # typecasting of int into str"
   ]
  },
  {
   "cell_type": "code",
   "execution_count": 18,
   "metadata": {},
   "outputs": [
    {
     "name": "stdout",
     "output_type": "stream",
     "text": [
      "{'fname': 'Karn', 'lname': 'Tiwari'}\n"
     ]
    }
   ],
   "source": [
    "user = {} # creating empty dic\n",
    "user['fname'] = 'Karn'\n",
    "user['lname'] = 'Tiwari'\n",
    "print(user)"
   ]
  },
  {
   "cell_type": "code",
   "execution_count": 19,
   "metadata": {},
   "outputs": [],
   "source": [
    "# modify value in dic"
   ]
  },
  {
   "cell_type": "code",
   "execution_count": 20,
   "metadata": {},
   "outputs": [
    {
     "name": "stdout",
     "output_type": "stream",
     "text": [
      "{'fname': 'Karn', 'lname': 'Tiwari'}\n",
      "{'fname': 'Vimal', 'lname': 'Tiwari'}\n"
     ]
    }
   ],
   "source": [
    "print(user)\n",
    "user['fname'] = 'Vimal'\n",
    "print(user)"
   ]
  },
  {
   "cell_type": "code",
   "execution_count": 21,
   "metadata": {},
   "outputs": [
    {
     "name": "stdout",
     "output_type": "stream",
     "text": [
      "Hello Vimal How are you\n"
     ]
    }
   ],
   "source": [
    "if user['fname'] == 'Vimal':\n",
    "    print(\"Hello \" + user['fname'] + \" How are you\")\n",
    "else:\n",
    "    print(\"Hello User\")"
   ]
  },
  {
   "cell_type": "code",
   "execution_count": 22,
   "metadata": {},
   "outputs": [
    {
     "name": "stdout",
     "output_type": "stream",
     "text": [
      "Hello User\n"
     ]
    }
   ],
   "source": [
    "if user['fname'] == 'Karn':\n",
    "    print(\"Hello \" + user['fname'] + \" How are you\")\n",
    "else:\n",
    "    print(\"Hello User\")"
   ]
  },
  {
   "cell_type": "code",
   "execution_count": 23,
   "metadata": {},
   "outputs": [],
   "source": [
    "# Removing key-value pair"
   ]
  },
  {
   "cell_type": "code",
   "execution_count": 24,
   "metadata": {},
   "outputs": [
    {
     "name": "stdout",
     "output_type": "stream",
     "text": [
      "{'fname': 'Vimal', 'lname': 'Tiwari'}\n"
     ]
    }
   ],
   "source": [
    "print(user)"
   ]
  },
  {
   "cell_type": "code",
   "execution_count": 25,
   "metadata": {},
   "outputs": [],
   "source": [
    "del user['lname']    # permanently deleting the key-value pair"
   ]
  },
  {
   "cell_type": "code",
   "execution_count": 26,
   "metadata": {},
   "outputs": [
    {
     "name": "stdout",
     "output_type": "stream",
     "text": [
      "{'fname': 'Vimal'}\n"
     ]
    }
   ],
   "source": [
    "print(user)"
   ]
  },
  {
   "cell_type": "code",
   "execution_count": 27,
   "metadata": {},
   "outputs": [],
   "source": [
    "# dic of similar objects"
   ]
  },
  {
   "cell_type": "code",
   "execution_count": 28,
   "metadata": {},
   "outputs": [],
   "source": [
    "user_age = {\n",
    "    'john':31,\n",
    "    'tom':26,\n",
    "    'tim':28,\n",
    "    'jack':30,\n",
    "}"
   ]
  },
  {
   "cell_type": "code",
   "execution_count": 29,
   "metadata": {},
   "outputs": [
    {
     "name": "stdout",
     "output_type": "stream",
     "text": [
      "{'john': 31, 'tom': 26, 'tim': 28, 'jack': 30}\n"
     ]
    }
   ],
   "source": [
    "print(user_age)"
   ]
  },
  {
   "cell_type": "code",
   "execution_count": 30,
   "metadata": {},
   "outputs": [
    {
     "name": "stdout",
     "output_type": "stream",
     "text": [
      "John's age is: 31\n"
     ]
    }
   ],
   "source": [
    "print(\"John's age is: \" + str(user_age['john']))"
   ]
  },
  {
   "cell_type": "code",
   "execution_count": 31,
   "metadata": {},
   "outputs": [
    {
     "name": "stdout",
     "output_type": "stream",
     "text": [
      "John's age is: 31\n"
     ]
    }
   ],
   "source": [
    "print(\"John's age is: \" +  # adding concatination\n",
    "      str(user_age['john'])) # breaking of print line into several lines"
   ]
  },
  {
   "cell_type": "code",
   "execution_count": 32,
   "metadata": {},
   "outputs": [],
   "source": [
    "# looping through dic method 1"
   ]
  },
  {
   "cell_type": "code",
   "execution_count": 33,
   "metadata": {},
   "outputs": [
    {
     "name": "stdout",
     "output_type": "stream",
     "text": [
      "{'john': 31, 'tom': 26, 'tim': 28, 'jack': 30}\n"
     ]
    }
   ],
   "source": [
    "print(user_age)"
   ]
  },
  {
   "cell_type": "code",
   "execution_count": 34,
   "metadata": {},
   "outputs": [
    {
     "name": "stdout",
     "output_type": "stream",
     "text": [
      "Name: john ,Age: 31\n",
      "Name: tom ,Age: 26\n",
      "Name: tim ,Age: 28\n",
      "Name: jack ,Age: 30\n"
     ]
    }
   ],
   "source": [
    "for key,value in user_age.items():\n",
    "    print(\"Name: \" + key + \" ,Age: \" + str(value))"
   ]
  },
  {
   "cell_type": "code",
   "execution_count": 35,
   "metadata": {},
   "outputs": [
    {
     "name": "stdout",
     "output_type": "stream",
     "text": [
      "key: fname\n",
      "value: Karn\n",
      "key: lname\n",
      "value: Tiwari\n",
      "key: age\n",
      "value: 19\n"
     ]
    }
   ],
   "source": [
    "user = {'fname':'Karn', 'lname' : 'Tiwari', 'age' : 19}\n",
    "for i,j in user.items():\n",
    "    print(\"key: \" + i)\n",
    "    print(\"value: \" + str(j))"
   ]
  },
  {
   "cell_type": "code",
   "execution_count": 36,
   "metadata": {},
   "outputs": [],
   "source": [
    "# method 2"
   ]
  },
  {
   "cell_type": "code",
   "execution_count": 37,
   "metadata": {},
   "outputs": [
    {
     "name": "stdout",
     "output_type": "stream",
     "text": [
      "{'john': 31, 'tom': 26, 'tim': 28, 'jack': 30}\n"
     ]
    }
   ],
   "source": [
    "print(user_age)"
   ]
  },
  {
   "cell_type": "code",
   "execution_count": 38,
   "metadata": {},
   "outputs": [
    {
     "name": "stdout",
     "output_type": "stream",
     "text": [
      "Your name is: john\n",
      "Your name is: tom\n",
      "Your name is: tim\n",
      "Your name is: jack\n"
     ]
    }
   ],
   "source": [
    "for a in user_age.keys():\n",
    "    print(\"Your name is: \" + a)"
   ]
  },
  {
   "cell_type": "code",
   "execution_count": 39,
   "metadata": {},
   "outputs": [
    {
     "name": "stdout",
     "output_type": "stream",
     "text": [
      "Your age is: 31\n",
      "Your age is: 26\n",
      "Your age is: 28\n",
      "Your age is: 30\n"
     ]
    }
   ],
   "source": [
    "for a in user_age.values():\n",
    "    print(\"Your age is: \" + str(a))"
   ]
  },
  {
   "cell_type": "code",
   "execution_count": 40,
   "metadata": {},
   "outputs": [
    {
     "name": "stdout",
     "output_type": "stream",
     "text": [
      "Your name is: john\n",
      "Your name is: tom\n",
      "Your name is: tim\n",
      "Your name is: jack\n"
     ]
    }
   ],
   "source": [
    "for a in user_age:\n",
    "    print(\"Your name is: \" + a)"
   ]
  },
  {
   "cell_type": "code",
   "execution_count": 41,
   "metadata": {},
   "outputs": [
    {
     "name": "stdout",
     "output_type": "stream",
     "text": [
      "hello john\n"
     ]
    }
   ],
   "source": [
    "for a in user_age: # iteration over keys\n",
    "    if a == \"john\":\n",
    "        print(\"hello \" + a)"
   ]
  },
  {
   "cell_type": "code",
   "execution_count": 42,
   "metadata": {},
   "outputs": [
    {
     "name": "stdout",
     "output_type": "stream",
     "text": [
      "hello john\n"
     ]
    }
   ],
   "source": [
    "if 'john' in user_age.keys():\n",
    "    print(\"hello john\")"
   ]
  },
  {
   "cell_type": "code",
   "execution_count": null,
   "metadata": {},
   "outputs": [],
   "source": [
    "# sorting while looping in dic"
   ]
  },
  {
   "cell_type": "code",
   "execution_count": null,
   "metadata": {},
   "outputs": [
    {
     "name": "stdout",
     "output_type": "stream",
     "text": [
      "{'john': 31, 'tom': 26, 'tim': 28, 'jack': 30}\n",
      "Your name is john\n",
      "Your name is tom\n",
      "Your name is tim\n",
      "Your name is jack\n"
     ]
    }
   ],
   "source": [
    "print(user_age)\n",
    "for key in user_age.keys():\n",
    "    print(\"Your name is \" + key)"
   ]
  },
  {
   "cell_type": "code",
   "execution_count": null,
   "metadata": {},
   "outputs": [
    {
     "name": "stdout",
     "output_type": "stream",
     "text": [
      "Your name is jack\n",
      "Your name is john\n",
      "Your name is tim\n",
      "Your name is tom\n"
     ]
    }
   ],
   "source": [
    "for key in sorted(user_age.keys()): # doesn't effect the order of dic\n",
    "    print(\"Your name is \" + key)"
   ]
  },
  {
   "cell_type": "code",
   "execution_count": null,
   "metadata": {},
   "outputs": [],
   "source": [
    "# looping through values"
   ]
  },
  {
   "cell_type": "code",
   "execution_count": null,
   "metadata": {},
   "outputs": [
    {
     "name": "stdout",
     "output_type": "stream",
     "text": [
      "{'john': 31, 'tom': 26, 'tim': 28, 'jack': 30}\n"
     ]
    }
   ],
   "source": [
    "print(user_age)"
   ]
  },
  {
   "cell_type": "code",
   "execution_count": null,
   "metadata": {},
   "outputs": [
    {
     "name": "stdout",
     "output_type": "stream",
     "text": [
      "31\n",
      "26\n",
      "28\n",
      "30\n"
     ]
    }
   ],
   "source": [
    "for a in user_age.values():\n",
    "    print(a)"
   ]
  },
  {
   "cell_type": "code",
   "execution_count": null,
   "metadata": {},
   "outputs": [],
   "source": [
    "user_age = {\n",
    "    'john':31,\n",
    "    'tom':26,\n",
    "    'tim':28,\n",
    "    'jack':30,\n",
    "    'dravid':26,\n",
    "    'john':20\n",
    "}"
   ]
  },
  {
   "cell_type": "code",
   "execution_count": null,
   "metadata": {},
   "outputs": [
    {
     "name": "stdout",
     "output_type": "stream",
     "text": [
      "john\n",
      "tom\n",
      "tim\n",
      "jack\n",
      "dravid\n"
     ]
    }
   ],
   "source": [
    "for a in user_age.keys():\n",
    "    print(a)"
   ]
  },
  {
   "cell_type": "code",
   "execution_count": null,
   "metadata": {},
   "outputs": [
    {
     "name": "stdout",
     "output_type": "stream",
     "text": [
      "20\n",
      "26\n",
      "28\n",
      "30\n",
      "26\n"
     ]
    }
   ],
   "source": [
    "for a in user_age.values():\n",
    "    print(a)"
   ]
  },
  {
   "cell_type": "code",
   "execution_count": null,
   "metadata": {},
   "outputs": [
    {
     "name": "stdout",
     "output_type": "stream",
     "text": [
      "26\n",
      "20\n",
      "28\n",
      "30\n"
     ]
    }
   ],
   "source": [
    "for a in set(user_age.values()): # avoid duplicates value using set method\n",
    "    print(a)                     # python take care of duplicates key-value pairs"
   ]
  },
  {
   "cell_type": "code",
   "execution_count": null,
   "metadata": {},
   "outputs": [
    {
     "name": "stdout",
     "output_type": "stream",
     "text": [
      "Karn\n",
      "Tiwari\n",
      "20\n",
      "fname\n",
      "lname\n",
      "age\n"
     ]
    }
   ],
   "source": [
    "user = {'fname':'Karn','lname':'Tiwari','age':20}\n",
    "for value in user.values():\n",
    "    print(value)\n",
    "for key in user.keys():\n",
    "    print(key)"
   ]
  },
  {
   "cell_type": "markdown",
   "metadata": {},
   "source": [
    "# list of dic"
   ]
  },
  {
   "cell_type": "code",
   "execution_count": null,
   "metadata": {},
   "outputs": [],
   "source": [
    "# nesting"
   ]
  },
  {
   "cell_type": "code",
   "execution_count": null,
   "metadata": {},
   "outputs": [],
   "source": [
    "user1 = {'name':'abc','age':20}\n",
    "user2 = {'name':'def','age':25}\n",
    "users = [user1, user2]"
   ]
  },
  {
   "cell_type": "code",
   "execution_count": null,
   "metadata": {},
   "outputs": [
    {
     "name": "stdout",
     "output_type": "stream",
     "text": [
      "{'name': 'abc', 'age': 20}\n",
      "{'name': 'def', 'age': 25}\n"
     ]
    }
   ],
   "source": [
    "for u in users:\n",
    "    print(u)"
   ]
  },
  {
   "cell_type": "code",
   "execution_count": null,
   "metadata": {},
   "outputs": [
    {
     "name": "stdout",
     "output_type": "stream",
     "text": [
      "[{'color': 'black', 'points': 10}, {'color': 'black', 'points': 10}, {'color': 'black', 'points': 10}, {'color': 'black', 'points': 10}, {'color': 'black', 'points': 10}, {'color': 'black', 'points': 10}, {'color': 'black', 'points': 10}, {'color': 'black', 'points': 10}, {'color': 'black', 'points': 10}, {'color': 'black', 'points': 10}, {'color': 'black', 'points': 10}, {'color': 'black', 'points': 10}, {'color': 'black', 'points': 10}, {'color': 'black', 'points': 10}, {'color': 'black', 'points': 10}, {'color': 'black', 'points': 10}, {'color': 'black', 'points': 10}, {'color': 'black', 'points': 10}, {'color': 'black', 'points': 10}, {'color': 'black', 'points': 10}]\n"
     ]
    }
   ],
   "source": [
    "enemies = []\n",
    "for enemy_number in range(20):\n",
    "    enemy_dic = {'color':'black','points':10}\n",
    "    enemies.append(enemy_dic)\n",
    "print(enemies)"
   ]
  },
  {
   "cell_type": "code",
   "execution_count": null,
   "metadata": {},
   "outputs": [
    {
     "data": {
      "text/plain": [
       "20"
      ]
     },
     "execution_count": 58,
     "metadata": {},
     "output_type": "execute_result"
    }
   ],
   "source": [
    "len(enemies)"
   ]
  },
  {
   "cell_type": "code",
   "execution_count": null,
   "metadata": {},
   "outputs": [
    {
     "name": "stdout",
     "output_type": "stream",
     "text": [
      "{'color': 'black', 'points': 10}\n",
      "{'color': 'black', 'points': 10}\n",
      "{'color': 'black', 'points': 10}\n"
     ]
    }
   ],
   "source": [
    "for a in enemies[:3]:\n",
    "    print(a)"
   ]
  },
  {
   "cell_type": "code",
   "execution_count": null,
   "metadata": {},
   "outputs": [],
   "source": [
    "for a in enemies[:5]:\n",
    "    if a['color'] == 'black':\n",
    "        a['color'] = 'green'"
   ]
  },
  {
   "cell_type": "code",
   "execution_count": null,
   "metadata": {},
   "outputs": [
    {
     "name": "stdout",
     "output_type": "stream",
     "text": [
      "{'color': 'green', 'points': 10}\n",
      "{'color': 'green', 'points': 10}\n",
      "{'color': 'green', 'points': 10}\n",
      "{'color': 'green', 'points': 10}\n",
      "{'color': 'green', 'points': 10}\n",
      "{'color': 'black', 'points': 10}\n",
      "{'color': 'black', 'points': 10}\n",
      "{'color': 'black', 'points': 10}\n",
      "{'color': 'black', 'points': 10}\n",
      "{'color': 'black', 'points': 10}\n",
      "{'color': 'black', 'points': 10}\n",
      "{'color': 'black', 'points': 10}\n",
      "{'color': 'black', 'points': 10}\n",
      "{'color': 'black', 'points': 10}\n",
      "{'color': 'black', 'points': 10}\n",
      "{'color': 'black', 'points': 10}\n",
      "{'color': 'black', 'points': 10}\n",
      "{'color': 'black', 'points': 10}\n",
      "{'color': 'black', 'points': 10}\n",
      "{'color': 'black', 'points': 10}\n"
     ]
    }
   ],
   "source": [
    "for a in enemies: # all the dic should have same structures\n",
    "    print(a)"
   ]
  },
  {
   "cell_type": "code",
   "execution_count": null,
   "metadata": {},
   "outputs": [],
   "source": [
    "# list in dic"
   ]
  },
  {
   "cell_type": "code",
   "execution_count": null,
   "metadata": {},
   "outputs": [],
   "source": [
    "user = {'name':'abc', 'hobbies':['sleeping','playing','watching']}"
   ]
  },
  {
   "cell_type": "code",
   "execution_count": null,
   "metadata": {},
   "outputs": [
    {
     "name": "stdout",
     "output_type": "stream",
     "text": [
      "{'name': 'abc', 'hobbies': ['sleeping', 'playing', 'watching']}\n"
     ]
    }
   ],
   "source": [
    "print(user)"
   ]
  },
  {
   "cell_type": "code",
   "execution_count": null,
   "metadata": {},
   "outputs": [
    {
     "name": "stdout",
     "output_type": "stream",
     "text": [
      "['sleeping', 'playing', 'watching']\n"
     ]
    }
   ],
   "source": [
    "print(user['hobbies'])"
   ]
  },
  {
   "cell_type": "code",
   "execution_count": null,
   "metadata": {},
   "outputs": [
    {
     "name": "stdout",
     "output_type": "stream",
     "text": [
      "sleeping\n",
      "playing\n",
      "watching\n"
     ]
    }
   ],
   "source": [
    "for hobby in user['hobbies']:\n",
    "    print(hobby)"
   ]
  },
  {
   "cell_type": "code",
   "execution_count": null,
   "metadata": {},
   "outputs": [],
   "source": [
    "# dic in dic"
   ]
  },
  {
   "cell_type": "code",
   "execution_count": null,
   "metadata": {},
   "outputs": [],
   "source": [
    "users = {'user1':{'name':'abc', 'hobbies':'sleeping'}, \n",
    "         'user2' :{'name':'def', 'hobbies': 'playing'}}"
   ]
  },
  {
   "cell_type": "code",
   "execution_count": null,
   "metadata": {},
   "outputs": [
    {
     "name": "stdout",
     "output_type": "stream",
     "text": [
      "{'name': 'abc', 'hobbies': 'sleeping'}\n",
      "{'name': 'def', 'hobbies': 'playing'}\n"
     ]
    }
   ],
   "source": [
    "print(users['user1'])\n",
    "print(users['user2'])"
   ]
  },
  {
   "cell_type": "code",
   "execution_count": null,
   "metadata": {},
   "outputs": [
    {
     "name": "stdout",
     "output_type": "stream",
     "text": [
      "Username: user1\n",
      "Username: user2\n"
     ]
    }
   ],
   "source": [
    "for user_name,user_hobby in users.items():\n",
    "    print('Username: ' + user_name)"
   ]
  },
  {
   "cell_type": "code",
   "execution_count": null,
   "metadata": {},
   "outputs": [
    {
     "name": "stdout",
     "output_type": "stream",
     "text": [
      "Username: user1\n",
      "{'name': 'abc', 'hobbies': 'sleeping'}\n",
      "Username: user2\n",
      "{'name': 'def', 'hobbies': 'playing'}\n"
     ]
    }
   ],
   "source": [
    "for user_name,user_hobby in users.items():\n",
    "    print('Username: ' + user_name)\n",
    "    print(user_hobby)"
   ]
  },
  {
   "cell_type": "code",
   "execution_count": null,
   "metadata": {},
   "outputs": [
    {
     "name": "stdout",
     "output_type": "stream",
     "text": [
      "Username: user1\n",
      "Name: abc\n",
      "hobby: abc\n",
      "Username: user2\n",
      "Name: def\n",
      "hobby: def\n"
     ]
    }
   ],
   "source": [
    "for user_name,user_hobby in users.items():\n",
    "    print('Username: ' + user_name)\n",
    "    print(\"Name: \" + user_hobby['name'])\n",
    "    print(\"hobby: \" + user_hobby['name'])"
   ]
  },
  {
   "cell_type": "code",
   "execution_count": null,
   "metadata": {},
   "outputs": [],
   "source": [
    "dic1 = {'fname':'karn','lname':'tiwari'}\n",
    "dic2 = {'fname':'vimal','lname':'tiwari'}\n",
    "person = [dic1,dic2]"
   ]
  },
  {
   "cell_type": "code",
   "execution_count": null,
   "metadata": {},
   "outputs": [
    {
     "name": "stdout",
     "output_type": "stream",
     "text": [
      "[{'fname': 'karn', 'lname': 'tiwari'}, {'fname': 'vimal', 'lname': 'tiwari'}]\n"
     ]
    }
   ],
   "source": [
    "print(person)"
   ]
  },
  {
   "cell_type": "code",
   "execution_count": null,
   "metadata": {},
   "outputs": [
    {
     "name": "stdout",
     "output_type": "stream",
     "text": [
      "First Name: karn\n",
      "Last Name: tiwari\n",
      "First Name: vimal\n",
      "Last Name: tiwari\n"
     ]
    }
   ],
   "source": [
    "for p in person:\n",
    "    print(\"First Name: \" + p['fname'])\n",
    "    print(\"Last Name: \" + p['lname'])"
   ]
  },
  {
   "cell_type": "code",
   "execution_count": null,
   "metadata": {},
   "outputs": [
    {
     "name": "stdout",
     "output_type": "stream",
     "text": [
      "Name: abc\n",
      "Country: abc\n",
      "Fact: cab\n",
      "Name: def\n",
      "Country: def\n",
      "Fact: fed\n"
     ]
    }
   ],
   "source": [
    "cities = {}\n",
    "cities = {'abc':{'country':'abc','fact':'cab'}, 'def':{'country':'def','fact':'fed'}}\n",
    "for city,fact in cities.items():\n",
    "    print(\"Name: \" + city)\n",
    "    print(\"Country: \" + fact['country'])\n",
    "    print(\"Fact: \" + fact['fact'])"
   ]
  },
  {
   "cell_type": "markdown",
   "metadata": {},
   "source": [
    "# User Input"
   ]
  },
  {
   "cell_type": "code",
   "execution_count": null,
   "metadata": {},
   "outputs": [],
   "source": [
    "#input"
   ]
  },
  {
   "cell_type": "code",
   "execution_count": null,
   "metadata": {},
   "outputs": [
    {
     "name": "stdout",
     "output_type": "stream",
     "text": [
      "Enter the number10\n",
      "10\n"
     ]
    }
   ],
   "source": [
    "x = int(input(\"Enter the number\"))\n",
    "print(x)"
   ]
  },
  {
   "cell_type": "code",
   "execution_count": null,
   "metadata": {},
   "outputs": [
    {
     "name": "stdout",
     "output_type": "stream",
     "text": [
      "Hello\n"
     ]
    }
   ],
   "source": [
    "message = input()"
   ]
  },
  {
   "cell_type": "code",
   "execution_count": null,
   "metadata": {},
   "outputs": [
    {
     "name": "stdout",
     "output_type": "stream",
     "text": [
      "Hello\n",
      "Hello\n"
     ]
    }
   ],
   "source": [
    "message = input()\n",
    "print(message)"
   ]
  },
  {
   "cell_type": "code",
   "execution_count": null,
   "metadata": {},
   "outputs": [],
   "source": [
    "# by default the python takes str as input"
   ]
  },
  {
   "cell_type": "code",
   "execution_count": null,
   "metadata": {},
   "outputs": [
    {
     "name": "stdout",
     "output_type": "stream",
     "text": [
      "enter the number10\n"
     ]
    },
    {
     "data": {
      "text/plain": [
       "str"
      ]
     },
     "execution_count": 82,
     "metadata": {},
     "output_type": "execute_result"
    }
   ],
   "source": [
    "x = input(\"enter the number\")\n",
    "type(x)"
   ]
  },
  {
   "cell_type": "code",
   "execution_count": null,
   "metadata": {},
   "outputs": [
    {
     "name": "stdout",
     "output_type": "stream",
     "text": [
      "enter the number20\n"
     ]
    },
    {
     "data": {
      "text/plain": [
       "int"
      ]
     },
     "execution_count": 83,
     "metadata": {},
     "output_type": "execute_result"
    }
   ],
   "source": [
    "x = input(\"enter the number\")\n",
    "x = int(x)\n",
    "type(x)"
   ]
  },
  {
   "cell_type": "code",
   "execution_count": null,
   "metadata": {},
   "outputs": [
    {
     "name": "stdout",
     "output_type": "stream",
     "text": [
      "enter the number30\n"
     ]
    },
    {
     "data": {
      "text/plain": [
       "int"
      ]
     },
     "execution_count": 84,
     "metadata": {},
     "output_type": "execute_result"
    }
   ],
   "source": [
    "x = int(input(\"enter the number\"))    # Type Casting of x\n",
    "type(x)    "
   ]
  },
  {
   "cell_type": "code",
   "execution_count": null,
   "metadata": {},
   "outputs": [],
   "source": [
    "age = 10"
   ]
  },
  {
   "cell_type": "code",
   "execution_count": null,
   "metadata": {},
   "outputs": [
    {
     "name": "stdout",
     "output_type": "stream",
     "text": [
      "Enter the age: 20\n",
      "Eligible for vote\n"
     ]
    }
   ],
   "source": [
    "x = int(input(\"Enter the age: \"))\n",
    "if x >= 18:\n",
    "    print(\"Eligible for vote\")\n",
    "else:\n",
    "    print(\"NOT Eligible for vote\")"
   ]
  },
  {
   "cell_type": "code",
   "execution_count": null,
   "metadata": {},
   "outputs": [
    {
     "name": "stdout",
     "output_type": "stream",
     "text": [
      "Enter the age: 10\n",
      "NOT Eligible for vote\n"
     ]
    }
   ],
   "source": [
    "x = int(input(\"Enter the age: \"))\n",
    "if x >= 18:\n",
    "    print(\"Eligible for vote\")\n",
    "else:\n",
    "    print(\"NOT Eligible for vote\")"
   ]
  },
  {
   "cell_type": "markdown",
   "metadata": {},
   "source": [
    "# While loop"
   ]
  },
  {
   "cell_type": "code",
   "execution_count": null,
   "metadata": {},
   "outputs": [
    {
     "name": "stdout",
     "output_type": "stream",
     "text": [
      "1\n",
      "2\n",
      "3\n",
      "4\n",
      "5\n"
     ]
    }
   ],
   "source": [
    "# Keep entering the loop until condition becomes false\n",
    "number = 1\n",
    "while number <= 5:\n",
    "    print(number)\n",
    "    number = number + 1"
   ]
  },
  {
   "cell_type": "code",
   "execution_count": null,
   "metadata": {},
   "outputs": [],
   "source": [
    "# Python doesn't support increment and decrement"
   ]
  },
  {
   "cell_type": "code",
   "execution_count": null,
   "metadata": {},
   "outputs": [
    {
     "name": "stdout",
     "output_type": "stream",
     "text": [
      "1\n"
     ]
    }
   ],
   "source": [
    "number = 1\n",
    "while number <= 5:\n",
    "    if number == 2:\n",
    "        continue\n",
    "    print(number)\n",
    "    number = number + 1"
   ]
  }
 ],
 "metadata": {
  "kernelspec": {
   "display_name": "Python 3",
   "language": "python",
   "name": "python3"
  },
  "language_info": {
   "codemirror_mode": {
    "name": "ipython",
    "version": 3
   },
   "file_extension": ".py",
   "mimetype": "text/x-python",
   "name": "python",
   "nbconvert_exporter": "python",
   "pygments_lexer": "ipython3",
   "version": "3.7.3"
  }
 },
 "nbformat": 4,
 "nbformat_minor": 2
}
